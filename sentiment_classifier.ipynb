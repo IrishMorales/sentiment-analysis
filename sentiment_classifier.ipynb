{
 "cells": [
  {
   "cell_type": "markdown",
   "metadata": {},
   "source": [
    "# Sentiment Classifier"
   ]
  },
  {
   "cell_type": "markdown",
   "metadata": {},
   "source": [
    "This notebook contains code for XGBoost to classify the vector representations of sentences."
   ]
  },
  {
   "cell_type": "markdown",
   "metadata": {},
   "source": [
    "### Import Libraries"
   ]
  },
  {
   "cell_type": "code",
   "execution_count": 352,
   "metadata": {},
   "outputs": [
    {
     "name": "stdout",
     "output_type": "stream",
     "text": [
      "Requirement already satisfied: xgboost in /Users/cs/.pyenv/versions/3.10.6/lib/python3.10/site-packages (1.7.5)\n",
      "Requirement already satisfied: numpy in /Users/cs/.pyenv/versions/3.10.6/lib/python3.10/site-packages (from xgboost) (1.24.2)\n",
      "Requirement already satisfied: scipy in /Users/cs/.pyenv/versions/3.10.6/lib/python3.10/site-packages (from xgboost) (1.10.1)\n"
     ]
    }
   ],
   "source": [
    "!pip install xgboost"
   ]
  },
  {
   "cell_type": "code",
   "execution_count": 353,
   "metadata": {},
   "outputs": [],
   "source": [
    "import pandas as pd\n",
    "\n",
    "import xgboost\n",
    "from sklearn import metrics"
   ]
  },
  {
   "cell_type": "code",
   "execution_count": 354,
   "metadata": {},
   "outputs": [],
   "source": [
    "import warnings\n",
    "warnings.filterwarnings(\"ignore\")"
   ]
  },
  {
   "cell_type": "markdown",
   "metadata": {},
   "source": [
    "### Input"
   ]
  },
  {
   "cell_type": "code",
   "execution_count": 355,
   "metadata": {},
   "outputs": [],
   "source": [
    "df_positive = pd.read_csv('positive.csv')\n",
    "df_positive['y'] = 1\n",
    "\n",
    "df_negative = pd.read_csv('negative.csv')\n",
    "df_negative['y'] = 0\n",
    "\n",
    "df_train = pd.concat([df_positive, df_negative], axis=0, ignore_index=True, sort=False).drop(columns=['Unnamed: 0'])\n",
    "df_train = df_train.sample(frac=1, random_state=29).reset_index(drop=True)\n",
    "df_train\n",
    "\n",
    "x_train, y_train = df_train.drop('y', axis=1), df_train['y']"
   ]
  },
  {
   "cell_type": "code",
   "execution_count": 356,
   "metadata": {},
   "outputs": [],
   "source": [
    "df_positive_gen = pd.read_csv('positive_generated.csv')\n",
    "df_positive_gen['y'] = 1\n",
    "\n",
    "df_negative_gen = pd.read_csv('negative_generated.csv')\n",
    "df_negative_gen['y'] = 0\n",
    "\n",
    "df_test = pd.concat([df_positive_gen, df_negative_gen], axis=0, ignore_index=True, sort=False).drop(columns=['Unnamed: 0'])\n",
    "df_test = df_test.sample(frac=1, random_state=29).reset_index(drop=True)\n",
    "df_test\n",
    "\n",
    "x_test, y_test = df_test.drop('y', axis=1), df_test['y']"
   ]
  },
  {
   "cell_type": "code",
   "execution_count": 359,
   "metadata": {},
   "outputs": [
    {
     "name": "stdout",
     "output_type": "stream",
     "text": [
      "XGBoost's prediction accuracy is: 80.00\n",
      "Time consumed for training: 0.061\n",
      "Time consumed for prediction: 0.00190 seconds\n"
     ]
    },
    {
     "data": {
      "text/plain": [
       "array([1, 0, 1, 1, 1, 1, 0, 1, 1, 0])"
      ]
     },
     "execution_count": 359,
     "metadata": {},
     "output_type": "execute_result"
    }
   ],
   "source": [
    "xgb = xgboost.XGBClassifier(n_estimators=80, learning_rate=0.015, max_depth=5, colsample_bytree=0.6, subsample=0.3, gamma=0.5, min_child_weight=1)\n",
    "training_start = time.perf_counter()\n",
    "xgb.fit(x_train, y_train)\n",
    "training_end = time.perf_counter()\n",
    "\n",
    "prediction_start = time.perf_counter()\n",
    "preds = xgb.predict(x_test)\n",
    "prediction_end = time.perf_counter()\n",
    "\n",
    "acc_xgb = (preds == y_test).sum().astype(float) / len(preds)*100\n",
    "xgb_train_time = training_end-training_start\n",
    "xgb_prediction_time = prediction_end-prediction_start\n",
    "\n",
    "print(\"XGBoost's prediction accuracy is: %3.2f\" % (acc_xgb))\n",
    "print(\"Time consumed for training: %4.3f\" % (xgb_train_time))\n",
    "print(\"Time consumed for prediction: %6.5f seconds\" % (xgb_prediction_time))\n",
    "preds"
   ]
  },
  {
   "cell_type": "code",
   "execution_count": 360,
   "metadata": {},
   "outputs": [
    {
     "name": "stdout",
     "output_type": "stream",
     "text": [
      "Accuracy: 80.00%\n"
     ]
    },
    {
     "data": {
      "text/plain": [
       "<sklearn.metrics._plot.confusion_matrix.ConfusionMatrixDisplay at 0x1519b2230>"
      ]
     },
     "execution_count": 360,
     "metadata": {},
     "output_type": "execute_result"
    },
    {
     "data": {
      "image/png": "[encoded data removed]",
      "text/plain": [
       "<Figure size 640x480 with 2 Axes>"
      ]
     },
     "metadata": {},
     "output_type": "display_data"
    }
   ],
   "source": [
    "accuracy = metrics.accuracy_score(y_test, preds)\n",
    "print(f\"Accuracy: {accuracy*100:.2f}%\")\n",
    "\n",
    "\n",
    "confusion_matrix = metrics.confusion_matrix(y_test, preds)\n",
    "\n",
    "cm_display = metrics.ConfusionMatrixDisplay(confusion_matrix = confusion_matrix, display_labels = [\"Negative\", \"Positive\"])\n",
    "\n",
    "cm_display.plot(cmap=plt.cm.Blues)"
   ]
  }
 ],
 "metadata": {
  "kernelspec": {
   "display_name": "Python 3 (ipykernel)",
   "language": "python",
   "name": "python3"
  },
  "language_info": {
   "codemirror_mode": {
    "name": "ipython",
    "version": 3
   },
   "file_extension": ".py",
   "mimetype": "text/x-python",
   "name": "python",
   "nbconvert_exporter": "python",
   "pygments_lexer": "ipython3",
   "version": "3.9.16"
  }
 },
 "nbformat": 4,
 "nbformat_minor": 2
}
